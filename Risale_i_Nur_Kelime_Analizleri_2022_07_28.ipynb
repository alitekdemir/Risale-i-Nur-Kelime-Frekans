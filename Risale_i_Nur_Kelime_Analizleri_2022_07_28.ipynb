{
  "nbformat": 4,
  "nbformat_minor": 0,
  "metadata": {
    "colab": {
      "name": "Risale-i Nur Kelime Analizleri - 2022-07-28.ipynb",
      "provenance": [],
      "collapsed_sections": [],
      "mount_file_id": "1TVsDZC-fmgEJx9utfLvdph1Kvx8VGiqg",
      "authorship_tag": "ABX9TyMVRw/uFvaPQcHD+i9UHf68",
      "include_colab_link": true
    },
    "kernelspec": {
      "name": "python3",
      "display_name": "Python 3"
    },
    "language_info": {
      "name": "python"
    }
  },
  "cells": [
    {
      "cell_type": "markdown",
      "metadata": {
        "id": "view-in-github",
        "colab_type": "text"
      },
      "source": [
        "<a href=\"https://colab.research.google.com/github/alitekdemir/Risale-i-Nur-Kelime-Frekans/blob/main/Risale_i_Nur_Kelime_Analizleri_2022_07_28.ipynb\" target=\"_parent\"><img src=\"https://colab.research.google.com/assets/colab-badge.svg\" alt=\"Open In Colab\"/></a>"
      ]
    },
    {
      "cell_type": "code",
      "execution_count": 6,
      "metadata": {
        "id": "r0y1hsuNfdA_"
      },
      "outputs": [],
      "source": [
        "import os\n",
        "import pandas as pd"
      ]
    },
    {
      "cell_type": "code",
      "source": [
        "path = \"/content/drive/MyDrive/Colab Notebooks/RNK_Kelimeler/SorularlaRisale/\""
      ],
      "metadata": {
        "id": "slP3mPlRfkTV"
      },
      "execution_count": 3,
      "outputs": []
    },
    {
      "cell_type": "code",
      "source": [
        "# Soldaki panelde bulunan Dosyalar sekmesinden\n",
        "# Google Drive bağlantısı aktif edilmeli\n",
        "for count, file in enumerate(os.listdir(path)):\n",
        "    print(count, file)"
      ],
      "metadata": {
        "colab": {
          "base_uri": "https://localhost:8080/"
        },
        "id": "cP29K-Pkf2ZF",
        "outputId": "43d02616-7479-42c9-e642-bdba53a016e1"
      },
      "execution_count": 5,
      "outputs": [
        {
          "output_type": "stream",
          "name": "stdout",
          "text": [
            "0 hutuvat-i-sitte-kelimeler.txt\n",
            "1 isarat-kelimeler.txt\n",
            "2 rumuz-kelimeler.txt\n",
            "3 divan-i-harb-i-orfi-kelimeler.txt\n",
            "4 tuluat-kelimeler.txt\n",
            "5 nokta-risalesi-kelimeler.txt\n",
            "6 suaat-kelimeler.txt\n",
            "7 isaratul-icaz-kelimeler.txt\n",
            "8 sunuhat-kelimeler.txt\n",
            "9 hutbe-i-samiye-kelimeler.txt\n",
            "10 munazarat-kelimeler.txt\n",
            "11 nurun-ilk-kapisi-kelimeler.txt\n",
            "12 mektubat-kelimeler.txt\n",
            "13 sikke-i-tasdik-i-gaybi-kelimeler.txt\n",
            "14 emirdag-lahikasi-ii-kelimeler.txt\n",
            "15 emirdag-lahikasi-i-kelimeler.txt\n",
            "16 kastamonu-lahikasi-kelimeler.txt\n",
            "17 tarihce-i-hayat-kelimeler.txt\n",
            "18 muhakemat-kelimeler.txt\n",
            "19 lemalar-kelimeler.txt\n",
            "20 mesnevi-i-nuriye-kelimeler.txt\n",
            "21 sozler-kelimeler.txt\n",
            "22 sualar-kelimeler.txt\n",
            "23 barla-lahikasi-kelimeler.txt\n",
            "24 .ipynb_checkpoints\n"
          ]
        }
      ]
    },
    {
      "cell_type": "code",
      "source": [
        "sozler = pd.read_csv(path + \"sozler-kelimeler.txt\", sep=\":\" , header=0, names=[\"kelime\", \"anlam\"])\n",
        "mektubat = pd.read_csv(path + \"mektubat-kelimeler.txt\", sep=\":\" , header=0, names=[\"kelime\", \"anlam\"])\n",
        "lemalar = pd.read_csv(path + \"lemalar-kelimeler.txt\", sep=\":\" , header=0, names=[\"kelime\", \"anlam\"])\n",
        "sualar = pd.read_csv(path + \"sualar-kelimeler.txt\", sep=\":\" , header=0, names=[\"kelime\", \"anlam\"])\n",
        "mesnevi = pd.read_csv(path + \"mesnevi-i-nuriye-kelimeler.txt\", sep=\":\" , header=0, names=[\"kelime\", \"anlam\"])\n",
        "barla = pd.read_csv(path + \"barla-lahikasi-kelimeler.txt\", sep=\":\" , header=0, names=[\"kelime\", \"anlam\"])\n",
        "muhakemat = pd.read_csv(path + \"muhakemat-kelimeler.txt\", sep=\":\" , header=0, names=[\"kelime\", \"anlam\"])\n",
        "\n",
        "sozler.reset_index(inplace = True, drop = True)\n",
        "mektubat.reset_index(inplace = True, drop = True)\n",
        "lemalar.reset_index(inplace = True, drop = True)\n",
        "sualar.reset_index(inplace = True, drop = True)\n",
        "mesnevi.reset_index(inplace = True, drop = True)\n",
        "barla.reset_index(inplace = True, drop = True)\n",
        "muhakemat.reset_index(inplace = True, drop = True)"
      ],
      "metadata": {
        "id": "-f0pYT8ggPV8"
      },
      "execution_count": 59,
      "outputs": []
    },
    {
      "cell_type": "code",
      "source": [
        "len(sozler)"
      ],
      "metadata": {
        "colab": {
          "base_uri": "https://localhost:8080/"
        },
        "id": "L_H9J5q73Gi1",
        "outputId": "a604a31a-207a-4670-b39c-d3542eadbf3a"
      },
      "execution_count": 104,
      "outputs": [
        {
          "output_type": "execute_result",
          "data": {
            "text/plain": [
              "27092"
            ]
          },
          "metadata": {},
          "execution_count": 104
        }
      ]
    },
    {
      "cell_type": "code",
      "source": [
        "print(\"Mükerrerli Kelime / Özgün Kelime\")\n",
        "print(f\"Sözler    : {len(sozler)} / {sozler['kelime'].value_counts().size}\")\n",
        "print(f\"Mektubat  : {len(mektubat)} / {mektubat['kelime'].value_counts().size}\")\n",
        "print(f\"Lemalar   : {len(lemalar)} / {lemalar['kelime'].value_counts().size}\")\n",
        "print(f\"Şualar    : {len(sualar)} / {sualar['kelime'].value_counts().size}\")\n",
        "print(f\"Mesnevi   : {len(mesnevi)} / {mesnevi['kelime'].value_counts().size}\")\n",
        "print(f\"Barla     : {len(barla)} / {barla['kelime'].value_counts().size}\")\n",
        "print(f\"Muhakemat : {len(muhakemat)} / {muhakemat['kelime'].value_counts().size}\")"
      ],
      "metadata": {
        "colab": {
          "base_uri": "https://localhost:8080/"
        },
        "id": "YglL8CRZgTau",
        "outputId": "3cc12604-fd38-40f4-dab5-384085fa67a0"
      },
      "execution_count": 105,
      "outputs": [
        {
          "output_type": "stream",
          "name": "stdout",
          "text": [
            "Mükerrerli Kelime / Özgün Kelime\n",
            "Sözler    : 27092 / 9922\n",
            "Mektubat  : 7201 / 3853\n",
            "Lemalar   : 18216 / 6927\n",
            "Şualar    : 29535 / 7531\n",
            "Mesnevi   : 18091 / 6123\n",
            "Barla     : 22451 / 7822\n",
            "Muhakemat : 12016 / 5199\n"
          ]
        }
      ]
    },
    {
      "cell_type": "code",
      "source": [
        "# Sözler'deki en çok tekrar eden ilk 10 kelime\n",
        "sozler['kelime'].value_counts().head(10)"
      ],
      "metadata": {
        "colab": {
          "base_uri": "https://localhost:8080/"
        },
        "id": "5mX-_8tUiQxl",
        "outputId": "35271691-e9fa-4572-b5bc-8ee35694a6e8"
      },
      "execution_count": 83,
      "outputs": [
        {
          "output_type": "execute_result",
          "data": {
            "text/plain": [
              "suret          164\n",
              "hakikat        164\n",
              "kâinat         156\n",
              "hikmet         118\n",
              "nefis           78\n",
              "mevcudat        74\n",
              "kudret          74\n",
              "âlem            74\n",
              "nazar           69\n",
              "nihayetsiz      68\n",
              "Name: kelime, dtype: int64"
            ]
          },
          "metadata": {},
          "execution_count": 83
        }
      ]
    },
    {
      "cell_type": "code",
      "source": [
        "mektubat['kelime'].value_counts().head(10)"
      ],
      "metadata": {
        "colab": {
          "base_uri": "https://localhost:8080/"
        },
        "id": "M1PeNujrjRed",
        "outputId": "acf3546d-efc2-435a-ed0a-0c52bde7637e"
      },
      "execution_count": 82,
      "outputs": [
        {
          "output_type": "execute_result",
          "data": {
            "text/plain": [
              "suret           71\n",
              "hakikat         59\n",
              "cihet           27\n",
              "hikmet          25\n",
              "Cenâb-ı Hak     25\n",
              "rahmet          24\n",
              "nazar           23\n",
              "hakikî          22\n",
              "nam             21\n",
              "nevi            21\n",
              "Name: kelime, dtype: int64"
            ]
          },
          "metadata": {},
          "execution_count": 82
        }
      ]
    },
    {
      "cell_type": "code",
      "source": [
        "lemalar['kelime'].value_counts().head(10)"
      ],
      "metadata": {
        "colab": {
          "base_uri": "https://localhost:8080/"
        },
        "id": "OMbmBYSTjR8N",
        "outputId": "2429fd44-7e27-4341-fb9a-9405f51923a3"
      },
      "execution_count": 81,
      "outputs": [
        {
          "output_type": "execute_result",
          "data": {
            "text/plain": [
              "suret           121\n",
              "cihet           121\n",
              "hakikat         108\n",
              "hadsiz           83\n",
              "ziyade           68\n",
              "âyet             66\n",
              "Cenâb-ı Hak      65\n",
              "nükte            59\n",
              "risale           58\n",
              "hikmet           52\n",
              "Name: kelime, dtype: int64"
            ]
          },
          "metadata": {},
          "execution_count": 81
        }
      ]
    },
    {
      "cell_type": "code",
      "source": [
        "muhakemat['kelime'].value_counts().head(10)"
      ],
      "metadata": {
        "colab": {
          "base_uri": "https://localhost:8080/"
        },
        "id": "7T-l45H_rS2d",
        "outputId": "a3136d13-4687-4b6d-97f1-5c443926f199"
      },
      "execution_count": 80,
      "outputs": [
        {
          "output_type": "execute_result",
          "data": {
            "text/plain": [
              "mukaddeme     58\n",
              "kelâm         49\n",
              "tenbih        45\n",
              "hikmet        41\n",
              "nazar         41\n",
              "hakikat       41\n",
              "binaen        34\n",
              "efkâr         29\n",
              "burhan        28\n",
              "belâgat       28\n",
              "Name: kelime, dtype: int64"
            ]
          },
          "metadata": {},
          "execution_count": 80
        }
      ]
    },
    {
      "cell_type": "code",
      "source": [
        "soz1defa         = sozler['kelime'].value_counts().where(sozler['kelime'].value_counts() == 1).dropna().size\n",
        "soz1den_buyukler = sozler['kelime'].value_counts().where(sozler['kelime'].value_counts() > 1).dropna().size\n",
        "print(\"Sözler'de 1'den fazla tekrarı olan kelimeler\", soz1den_buyukler)\n",
        "print(\"Sözler'de 1 defa kullanılan kelimeler\", soz1defa)"
      ],
      "metadata": {
        "colab": {
          "base_uri": "https://localhost:8080/"
        },
        "id": "yKj5DrgWw2dR",
        "outputId": "553d8249-a7c7-41b1-803c-154b9b903358"
      },
      "execution_count": 110,
      "outputs": [
        {
          "output_type": "stream",
          "name": "stdout",
          "text": [
            "Sözler'de 1'den fazla tekrarı olan kelimeler 3599\n",
            "Sözler'de 1 defa kullanılan kelimeler 6323\n"
          ]
        }
      ]
    },
    {
      "cell_type": "code",
      "source": [
        "soz100 = sozler['kelime'].value_counts().head(100).sum()\n",
        "soz200 = sozler['kelime'].value_counts().head(200).sum()\n",
        "soz300 = sozler['kelime'].value_counts().head(300).sum()\n",
        "soz400 = sozler['kelime'].value_counts().head(400).sum()\n",
        "soz500 = sozler['kelime'].value_counts().head(500).sum()\n",
        "soz1000 = sozler['kelime'].value_counts().head(1000).sum()\n",
        "soz3599 = sozler['kelime'].value_counts().head(3599).sum()\n",
        "\n",
        "\n",
        "print(\"Sözler'deki ilk 100 kelimenin tekrar toplamı : \",  soz100)\n",
        "print(\"Sözler'deki ilk 200 kelimenin tekrar toplamı : \",  soz200)\n",
        "print(\"Sözler'deki ilk 300 kelimenin tekrar toplamı : \",  soz300)\n",
        "print(\"Sözler'deki ilk 400 kelimenin tekrar toplamı : \",  soz400)\n",
        "print(\"Sözler'deki ilk 500 kelimenin tekrar toplamı : \",  soz500)\n",
        "print(\"Sözler'deki ilk 1000 kelimenin tekrar toplamı : \", soz1000)\n",
        "print(\"Sözler'deki ilk 3599 kelimenin tekrar toplamı : \", soz3599)"
      ],
      "metadata": {
        "colab": {
          "base_uri": "https://localhost:8080/"
        },
        "id": "MLAqscwVzVRR",
        "outputId": "40a7e92b-1bf6-4c11-a4cc-480b741e17eb"
      },
      "execution_count": 120,
      "outputs": [
        {
          "output_type": "stream",
          "name": "stdout",
          "text": [
            "Sözler'deki ilk 100 kelimenin tekrar toplamı :  4540\n",
            "Sözler'deki ilk 200 kelimenin tekrar toplamı :  6660\n",
            "Sözler'deki ilk 300 kelimenin tekrar toplamı :  8153\n",
            "Sözler'deki ilk 400 kelimenin tekrar toplamı :  9333\n",
            "Sözler'deki ilk 500 kelimenin tekrar toplamı :  10313\n",
            "Sözler'deki ilk 1000 kelimenin tekrar toplamı :  13689\n",
            "Sözler'deki ilk 3599 kelimenin tekrar toplamı :  20769\n"
          ]
        }
      ]
    },
    {
      "cell_type": "code",
      "source": [
        "mektubat100  = mektubat['kelime'].value_counts().head(100).sum()\n",
        "mektubat200  = mektubat['kelime'].value_counts().head(200).sum()\n",
        "mektubat300  = mektubat['kelime'].value_counts().head(300).sum()\n",
        "mektubat400  = mektubat['kelime'].value_counts().head(400).sum()\n",
        "mektubat500  = mektubat['kelime'].value_counts().head(500).sum()\n",
        "mektubat1000 = mektubat['kelime'].value_counts().head(1000).sum()\n",
        "\n",
        "lemalar100  = lemalar['kelime'].value_counts().head(100).sum()\n",
        "lemalar200  = lemalar['kelime'].value_counts().head(200).sum()\n",
        "lemalar300  = lemalar['kelime'].value_counts().head(300).sum()\n",
        "lemalar400  = lemalar['kelime'].value_counts().head(400).sum()\n",
        "lemalar500  = lemalar['kelime'].value_counts().head(500).sum()\n",
        "lemalar1000 = lemalar['kelime'].value_counts().head(1000).sum()\n",
        "\n",
        "sualar100  = sualar['kelime'].value_counts().head(100).sum()\n",
        "sualar200  = sualar['kelime'].value_counts().head(200).sum()\n",
        "sualar300  = sualar['kelime'].value_counts().head(300).sum()\n",
        "sualar400  = sualar['kelime'].value_counts().head(400).sum()\n",
        "sualar500  = sualar['kelime'].value_counts().head(500).sum()\n",
        "sualar1000 = sualar['kelime'].value_counts().head(1000).sum()\n",
        "\n",
        "mesnevi100  = mesnevi['kelime'].value_counts().head(100).sum()\n",
        "mesnevi200  = mesnevi['kelime'].value_counts().head(200).sum()\n",
        "mesnevi300  = mesnevi['kelime'].value_counts().head(300).sum()\n",
        "mesnevi400  = mesnevi['kelime'].value_counts().head(400).sum()\n",
        "mesnevi500  = mesnevi['kelime'].value_counts().head(500).sum()\n",
        "mesnevi1000 = mesnevi['kelime'].value_counts().head(1000).sum()\n",
        "\n",
        "barla100  = barla['kelime'].value_counts().head(100).sum()\n",
        "barla200  = barla['kelime'].value_counts().head(200).sum()\n",
        "barla300  = barla['kelime'].value_counts().head(300).sum()\n",
        "barla400  = barla['kelime'].value_counts().head(400).sum()\n",
        "barla500  = barla['kelime'].value_counts().head(500).sum()\n",
        "barla1000 = barla['kelime'].value_counts().head(1000).sum()\n",
        "\n",
        "muhakemat100  = muhakemat['kelime'].value_counts().head(100).sum()\n",
        "muhakemat200  = muhakemat['kelime'].value_counts().head(200).sum()\n",
        "muhakemat300  = muhakemat['kelime'].value_counts().head(300).sum()\n",
        "muhakemat400  = muhakemat['kelime'].value_counts().head(400).sum()\n",
        "muhakemat500  = muhakemat['kelime'].value_counts().head(500).sum()\n",
        "muhakemat1000 = muhakemat['kelime'].value_counts().head(1000).sum()"
      ],
      "metadata": {
        "id": "IZdiUb_C9QNg"
      },
      "execution_count": 119,
      "outputs": []
    },
    {
      "cell_type": "code",
      "source": [
        "print(f\"Sözler    : {soz100 / len(sozler):.2%}\")\n",
        "print(f\"Mektubat  : {mektubat100 / len(mektubat):.2%}\")\n",
        "print(f\"Lemalar   : {lemalar100 / len(lemalar):.2%}\")\n",
        "print(f\"Şualar    : {sualar100 / len(sualar):.2%}\")\n",
        "print(f\"Mesnevi   : {mesnevi100 / len(mesnevi):.2%}\")\n",
        "print(f\"Barla     : {barla100 / len(barla):.2%}\")\n",
        "print(f\"Muhakemat : {muhakemat100 / len(muhakemat):.2%}\")"
      ],
      "metadata": {
        "colab": {
          "base_uri": "https://localhost:8080/"
        },
        "id": "B1AklvH78FLo",
        "outputId": "65be6333-bca8-4dc9-e5f1-8fee410d5ad9"
      },
      "execution_count": 121,
      "outputs": [
        {
          "output_type": "stream",
          "name": "stdout",
          "text": [
            "Sözler    : 16.76%\n",
            "Mektubat  : 18.07%\n",
            "Lemalar   : 18.26%\n",
            "Şualar    : 22.39%\n",
            "Mesnevi   : 19.70%\n",
            "Barla     : 20.53%\n",
            "Muhakemat : 15.26%\n"
          ]
        }
      ]
    },
    {
      "cell_type": "code",
      "source": [
        "print(f\"Sözler    : {soz200 / len(sozler):.2%}\")\n",
        "print(f\"Mektubat  : {mektubat200 / len(mektubat):.2%}\")\n",
        "print(f\"Lemalar   : {lemalar200 / len(lemalar):.2%}\")\n",
        "print(f\"Şualar    : {sualar200 / len(sualar):.2%}\")\n",
        "print(f\"Mesnevi   : {mesnevi200 / len(mesnevi):.2%}\")\n",
        "print(f\"Barla     : {barla200 / len(barla):.2%}\")\n",
        "print(f\"Muhakemat : {muhakemat200 / len(muhakemat):.2%}\")"
      ],
      "metadata": {
        "colab": {
          "base_uri": "https://localhost:8080/"
        },
        "id": "3keDYfFh-SZ1",
        "outputId": "51e4bf88-b862-442f-c4cc-11296b628d92"
      },
      "execution_count": 122,
      "outputs": [
        {
          "output_type": "stream",
          "name": "stdout",
          "text": [
            "Sözler    : 24.58%\n",
            "Mektubat  : 26.59%\n",
            "Lemalar   : 26.92%\n",
            "Şualar    : 31.75%\n",
            "Mesnevi   : 28.59%\n",
            "Barla     : 28.50%\n",
            "Muhakemat : 22.44%\n"
          ]
        }
      ]
    },
    {
      "cell_type": "code",
      "source": [
        "print(f\"Sözler    : {soz300 / len(sozler):.2%}\")\n",
        "print(f\"Mektubat  : {mektubat300 / len(mektubat):.2%}\")\n",
        "print(f\"Lemalar   : {lemalar300 / len(lemalar):.2%}\")\n",
        "print(f\"Şualar    : {sualar300 / len(sualar):.2%}\")\n",
        "print(f\"Mesnevi   : {mesnevi300 / len(mesnevi):.2%}\")\n",
        "print(f\"Barla     : {barla300 / len(barla):.2%}\")\n",
        "print(f\"Muhakemat : {muhakemat300 / len(muhakemat):.2%}\")"
      ],
      "metadata": {
        "colab": {
          "base_uri": "https://localhost:8080/"
        },
        "id": "isCfFaDh-lRc",
        "outputId": "f9755769-1c60-459e-d959-74dbc725e863"
      },
      "execution_count": 123,
      "outputs": [
        {
          "output_type": "stream",
          "name": "stdout",
          "text": [
            "Sözler    : 30.09%\n",
            "Mektubat  : 32.93%\n",
            "Lemalar   : 33.10%\n",
            "Şualar    : 38.69%\n",
            "Mesnevi   : 34.97%\n",
            "Barla     : 34.00%\n",
            "Muhakemat : 27.70%\n"
          ]
        }
      ]
    },
    {
      "cell_type": "code",
      "source": [
        "print(f\"Sözler    : {soz400 / len(sozler):.2%}\")\n",
        "print(f\"Mektubat  : {mektubat400 / len(mektubat):.2%}\")\n",
        "print(f\"Lemalar   : {lemalar400 / len(lemalar):.2%}\")\n",
        "print(f\"Şualar    : {sualar400 / len(sualar):.2%}\")\n",
        "print(f\"Mesnevi   : {mesnevi400 / len(mesnevi):.2%}\")\n",
        "print(f\"Barla     : {barla400 / len(barla):.2%}\")\n",
        "print(f\"Muhakemat : {muhakemat400 / len(muhakemat):.2%}\")"
      ],
      "metadata": {
        "colab": {
          "base_uri": "https://localhost:8080/"
        },
        "id": "if97dDF1-6yy",
        "outputId": "73bfc437-9985-406d-e763-61915d0a1c6e"
      },
      "execution_count": 124,
      "outputs": [
        {
          "output_type": "stream",
          "name": "stdout",
          "text": [
            "Sözler    : 34.45%\n",
            "Mektubat  : 38.45%\n",
            "Lemalar   : 38.01%\n",
            "Şualar    : 44.06%\n",
            "Mesnevi   : 39.97%\n",
            "Barla     : 38.25%\n",
            "Muhakemat : 32.04%\n"
          ]
        }
      ]
    },
    {
      "cell_type": "code",
      "source": [
        "print(f\"Sözler    : {soz500 / len(sozler):.2%}\")\n",
        "print(f\"Mektubat  : {mektubat500 / len(mektubat):.2%}\")\n",
        "print(f\"Lemalar   : {lemalar500 / len(lemalar):.2%}\")\n",
        "print(f\"Şualar    : {sualar500 / len(sualar):.2%}\")\n",
        "print(f\"Mesnevi   : {mesnevi500 / len(mesnevi):.2%}\")\n",
        "print(f\"Barla     : {barla500 / len(barla):.2%}\")\n",
        "print(f\"Muhakemat : {muhakemat500 / len(muhakemat):.2%}\")"
      ],
      "metadata": {
        "colab": {
          "base_uri": "https://localhost:8080/"
        },
        "id": "FQm336oR_Aoe",
        "outputId": "c03a8db4-0339-477d-c9eb-d64c1f02722f"
      },
      "execution_count": 125,
      "outputs": [
        {
          "output_type": "stream",
          "name": "stdout",
          "text": [
            "Sözler    : 38.07%\n",
            "Mektubat  : 42.62%\n",
            "Lemalar   : 42.06%\n",
            "Şualar    : 48.44%\n",
            "Mesnevi   : 44.11%\n",
            "Barla     : 41.67%\n",
            "Muhakemat : 35.94%\n"
          ]
        }
      ]
    },
    {
      "cell_type": "code",
      "source": [
        "print(f\"Sözler    : {soz1000 / len(sozler):.2%}\")\n",
        "print(f\"Mektubat  : {mektubat1000 / len(mektubat):.2%}\")\n",
        "print(f\"Lemalar   : {lemalar1000 / len(lemalar):.2%}\")\n",
        "print(f\"Şualar    : {sualar1000 / len(sualar):.2%}\")\n",
        "print(f\"Mesnevi   : {mesnevi1000 / len(mesnevi):.2%}\")\n",
        "print(f\"Barla     : {barla1000 / len(barla):.2%}\")\n",
        "print(f\"Muhakemat : {muhakemat1000 / len(muhakemat):.2%}\")"
      ],
      "metadata": {
        "colab": {
          "base_uri": "https://localhost:8080/"
        },
        "id": "7qvMGdTX_Gwe",
        "outputId": "77e416bb-1d44-42bb-cee6-ee0a3d4bb911"
      },
      "execution_count": 126,
      "outputs": [
        {
          "output_type": "stream",
          "name": "stdout",
          "text": [
            "Sözler    : 50.53%\n",
            "Mektubat  : 58.24%\n",
            "Lemalar   : 55.58%\n",
            "Şualar    : 62.46%\n",
            "Mesnevi   : 58.65%\n",
            "Barla     : 53.56%\n",
            "Muhakemat : 50.02%\n"
          ]
        }
      ]
    },
    {
      "cell_type": "code",
      "source": [
        "#Sözler'deki ilk 100 kelime\n",
        "sozler['kelime'].value_counts().head(100).index"
      ],
      "metadata": {
        "colab": {
          "base_uri": "https://localhost:8080/"
        },
        "id": "ZEhSEiS7CdZJ",
        "outputId": "48fd62fc-eee4-4d0d-8247-41cbaa96b821"
      },
      "execution_count": 129,
      "outputs": [
        {
          "output_type": "execute_result",
          "data": {
            "text/plain": [
              "Index(['suret ', 'hakikat ', 'kâinat ', 'hikmet ', 'nefis ', 'mevcudat ',\n",
              "       'kudret ', 'âlem ', 'nazar ', 'nihayetsiz ', 'mazhar ', 'rahmet ',\n",
              "       'zemin ', 'cihet ', 'hadsiz ', 'hakikî ', 'şehadet ', 'sair ', 'beyan ',\n",
              "       'saadet ', 'intizam ', 'icad ', 'temsil ', 'nevi ', 'nuranî ', 'nam ',\n",
              "       'umum ', 'Hâlık ', 'muntazam ', 'muhtelif ', 'arz ', 'Kur’ân-ı Hakîm ',\n",
              "       'âhiret ', 'Cenâb-ı Hak ', 'mahiyet ', 'mâlik ', 'beşer ', 'cilve ',\n",
              "       'mahlûkat ', 'vücud ', 'lisan ', 'cüz’î ', 'tabiat ', 'lâtif ',\n",
              "       'zîhayat ', 'kat’î ', 'Sâni ', 'medar ', 'ulvî ', 'ziya ', 'acz ',\n",
              "       'âciz ', 'zerre ', 'küllî ', 'dalâlet ', 'ubûdiyet ', 'mahlûk ',\n",
              "       'kemâl ', 'nisbet ', 'haşir ', 'esmâ ', 'istidat ', 'âyine ', 'kelâm ',\n",
              "       'saadet-i ebediye ', 'esbab ', 'ebedî ', 'Sâni-i Hakîm ', 'azîm ',\n",
              "       'ihsan ', 'acip ', 'mukabil ', 'ziyade ', 'delâlet ', 'taife ',\n",
              "       'Sâni-i Zülcelâl ', 'muvazene ', 'nihayet ', 'câmid ', 'inkâr ',\n",
              "       'mizan ', 'elhasıl ', 'muhabbet ', 'hak ', 'ihtiyar ', 'nev’ ',\n",
              "       'zikretmek ', 'burhan ', 'haşiye ', 'ekser ', 'Aleyhissalâtü Vesselâm ',\n",
              "       'irade ', 'bekà ', 'menzil ', 'muhal ', 'Zât-ı Zülcelâl ', 'vahdet ',\n",
              "       'semâ ', 'musahhar ', 'eşya '],\n",
              "      dtype='object')"
            ]
          },
          "metadata": {},
          "execution_count": 129
        }
      ]
    }
  ]
}